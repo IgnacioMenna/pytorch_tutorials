{
  "nbformat": 4,
  "nbformat_minor": 0,
  "metadata": {
    "colab": {
      "provenance": [],
      "gpuType": "T4"
    },
    "kernelspec": {
      "name": "python3",
      "display_name": "Python 3"
    },
    "language_info": {
      "name": "python"
    },
    "accelerator": "GPU"
  },
  "cells": [
    {
      "cell_type": "markdown",
      "source": [
        "# 1. Initializations and Dataset Download"
      ],
      "metadata": {
        "id": "JUHknvycKcVO"
      }
    },
    {
      "cell_type": "code",
      "source": [
        "!pip install transformers\n",
        "!pip install opendatasets\n",
        "import opendatasets as od\n",
        "od.download(\"https://www.kaggle.com/datasets/rmisra/news-headlines-dataset-for-sarcasm-detection\")"
      ],
      "metadata": {
        "colab": {
          "base_uri": "https://localhost:8080/"
        },
        "id": "MzY0AYH67qSO",
        "outputId": "55060127-494d-4255-98f6-669e136a7ba7"
      },
      "execution_count": 24,
      "outputs": [
        {
          "output_type": "stream",
          "name": "stdout",
          "text": [
            "Please provide your Kaggle credentials to download this dataset. Learn more: http://bit.ly/kaggle-creds\n",
            "Your Kaggle username: omaratef3221\n",
            "Your Kaggle Key: ··········\n",
            "Downloading news-headlines-dataset-for-sarcasm-detection.zip to ./news-headlines-dataset-for-sarcasm-detection\n"
          ]
        },
        {
          "output_type": "stream",
          "name": "stderr",
          "text": [
            "100%|██████████| 3.30M/3.30M [00:00<00:00, 196MB/s]"
          ]
        },
        {
          "output_type": "stream",
          "name": "stdout",
          "text": [
            "\n"
          ]
        },
        {
          "output_type": "stream",
          "name": "stderr",
          "text": [
            "\n"
          ]
        }
      ]
    },
    {
      "cell_type": "markdown",
      "source": [
        "# 2. Imports\n",
        "Lets start by getting all our imports, keep in mind that PyTorch is not automatically detects and trains on GPU, you have to tell it to use cuda. In case you want to train on Mac Silicon replace cuda with ```mps```.\n"
      ],
      "metadata": {
        "id": "LPkdrUo2JdQQ"
      }
    },
    {
      "cell_type": "code",
      "execution_count": 2,
      "metadata": {
        "id": "bAN6P0pW6j3v"
      },
      "outputs": [],
      "source": [
        "import torch\n",
        "import torch.nn as nn\n",
        "from torch.optim import Adam\n",
        "from transformers import AutoTokenizer, AutoModel\n",
        "from torch.utils.data import Dataset, DataLoader\n",
        "from sklearn.model_selection import train_test_split\n",
        "from sklearn.metrics import accuracy_score\n",
        "import matplotlib.pyplot as plt\n",
        "import pandas as pd\n",
        "import numpy as np\n",
        "\n",
        "\n",
        "device = 'cuda' if torch.cuda.is_available() else 'cpu'"
      ]
    },
    {
      "cell_type": "markdown",
      "source": [
        "# 2. Dataset\n",
        "Now lets read the dataset, this lab was developed by Google Colab, so dataset downloaded and read from the path shown below. We will be reading the dataset using pandas `read_json` function, then we will remove the nulls/missing data from our dataframe as a filteration process, keep in mind that this process is essential as missing data will stop the code from training. You can skip dropping the missing values if you are 100% sure that there are no missing values in your data. After that we printed the dataset shape and we used the `head()` function to visualize the first 5 rows, this step is optional as it just allows us to see the first 5 rows and will not affect the training process."
      ],
      "metadata": {
        "id": "DhGF7tTcKoO6"
      }
    },
    {
      "cell_type": "code",
      "source": [
        "data_df = pd.read_json(\"/content/news-headlines-dataset-for-sarcasm-detection/Sarcasm_Headlines_Dataset.json\", lines=True)\n",
        "data_df.dropna(inplace=True)\n",
        "print(data_df.shape)\n",
        "data_df.head()"
      ],
      "metadata": {
        "colab": {
          "base_uri": "https://localhost:8080/",
          "height": 224
        },
        "id": "5y9givr27601",
        "outputId": "8b5d2784-25a6-40f0-abc3-ee94e062f629"
      },
      "execution_count": 3,
      "outputs": [
        {
          "output_type": "stream",
          "name": "stdout",
          "text": [
            "(26709, 3)\n"
          ]
        },
        {
          "output_type": "execute_result",
          "data": {
            "text/plain": [
              "                                        article_link  \\\n",
              "0  https://www.huffingtonpost.com/entry/versace-b...   \n",
              "1  https://www.huffingtonpost.com/entry/roseanne-...   \n",
              "2  https://local.theonion.com/mom-starting-to-fea...   \n",
              "3  https://politics.theonion.com/boehner-just-wan...   \n",
              "4  https://www.huffingtonpost.com/entry/jk-rowlin...   \n",
              "\n",
              "                                            headline  is_sarcastic  \n",
              "0  former versace store clerk sues over secret 'b...             0  \n",
              "1  the 'roseanne' revival catches up to our thorn...             0  \n",
              "2  mom starting to fear son's web series closest ...             1  \n",
              "3  boehner just wants wife to listen, not come up...             1  \n",
              "4  j.k. rowling wishes snape happy birthday in th...             0  "
            ],
            "text/html": [
              "\n",
              "  <div id=\"df-d92e6c35-c4fe-4da1-9e93-049a2b384245\" class=\"colab-df-container\">\n",
              "    <div>\n",
              "<style scoped>\n",
              "    .dataframe tbody tr th:only-of-type {\n",
              "        vertical-align: middle;\n",
              "    }\n",
              "\n",
              "    .dataframe tbody tr th {\n",
              "        vertical-align: top;\n",
              "    }\n",
              "\n",
              "    .dataframe thead th {\n",
              "        text-align: right;\n",
              "    }\n",
              "</style>\n",
              "<table border=\"1\" class=\"dataframe\">\n",
              "  <thead>\n",
              "    <tr style=\"text-align: right;\">\n",
              "      <th></th>\n",
              "      <th>article_link</th>\n",
              "      <th>headline</th>\n",
              "      <th>is_sarcastic</th>\n",
              "    </tr>\n",
              "  </thead>\n",
              "  <tbody>\n",
              "    <tr>\n",
              "      <th>0</th>\n",
              "      <td>https://www.huffingtonpost.com/entry/versace-b...</td>\n",
              "      <td>former versace store clerk sues over secret 'b...</td>\n",
              "      <td>0</td>\n",
              "    </tr>\n",
              "    <tr>\n",
              "      <th>1</th>\n",
              "      <td>https://www.huffingtonpost.com/entry/roseanne-...</td>\n",
              "      <td>the 'roseanne' revival catches up to our thorn...</td>\n",
              "      <td>0</td>\n",
              "    </tr>\n",
              "    <tr>\n",
              "      <th>2</th>\n",
              "      <td>https://local.theonion.com/mom-starting-to-fea...</td>\n",
              "      <td>mom starting to fear son's web series closest ...</td>\n",
              "      <td>1</td>\n",
              "    </tr>\n",
              "    <tr>\n",
              "      <th>3</th>\n",
              "      <td>https://politics.theonion.com/boehner-just-wan...</td>\n",
              "      <td>boehner just wants wife to listen, not come up...</td>\n",
              "      <td>1</td>\n",
              "    </tr>\n",
              "    <tr>\n",
              "      <th>4</th>\n",
              "      <td>https://www.huffingtonpost.com/entry/jk-rowlin...</td>\n",
              "      <td>j.k. rowling wishes snape happy birthday in th...</td>\n",
              "      <td>0</td>\n",
              "    </tr>\n",
              "  </tbody>\n",
              "</table>\n",
              "</div>\n",
              "    <div class=\"colab-df-buttons\">\n",
              "\n",
              "  <div class=\"colab-df-container\">\n",
              "    <button class=\"colab-df-convert\" onclick=\"convertToInteractive('df-d92e6c35-c4fe-4da1-9e93-049a2b384245')\"\n",
              "            title=\"Convert this dataframe to an interactive table.\"\n",
              "            style=\"display:none;\">\n",
              "\n",
              "  <svg xmlns=\"http://www.w3.org/2000/svg\" height=\"24px\" viewBox=\"0 -960 960 960\">\n",
              "    <path d=\"M120-120v-720h720v720H120Zm60-500h600v-160H180v160Zm220 220h160v-160H400v160Zm0 220h160v-160H400v160ZM180-400h160v-160H180v160Zm440 0h160v-160H620v160ZM180-180h160v-160H180v160Zm440 0h160v-160H620v160Z\"/>\n",
              "  </svg>\n",
              "    </button>\n",
              "\n",
              "  <style>\n",
              "    .colab-df-container {\n",
              "      display:flex;\n",
              "      gap: 12px;\n",
              "    }\n",
              "\n",
              "    .colab-df-convert {\n",
              "      background-color: #E8F0FE;\n",
              "      border: none;\n",
              "      border-radius: 50%;\n",
              "      cursor: pointer;\n",
              "      display: none;\n",
              "      fill: #1967D2;\n",
              "      height: 32px;\n",
              "      padding: 0 0 0 0;\n",
              "      width: 32px;\n",
              "    }\n",
              "\n",
              "    .colab-df-convert:hover {\n",
              "      background-color: #E2EBFA;\n",
              "      box-shadow: 0px 1px 2px rgba(60, 64, 67, 0.3), 0px 1px 3px 1px rgba(60, 64, 67, 0.15);\n",
              "      fill: #174EA6;\n",
              "    }\n",
              "\n",
              "    .colab-df-buttons div {\n",
              "      margin-bottom: 4px;\n",
              "    }\n",
              "\n",
              "    [theme=dark] .colab-df-convert {\n",
              "      background-color: #3B4455;\n",
              "      fill: #D2E3FC;\n",
              "    }\n",
              "\n",
              "    [theme=dark] .colab-df-convert:hover {\n",
              "      background-color: #434B5C;\n",
              "      box-shadow: 0px 1px 3px 1px rgba(0, 0, 0, 0.15);\n",
              "      filter: drop-shadow(0px 1px 2px rgba(0, 0, 0, 0.3));\n",
              "      fill: #FFFFFF;\n",
              "    }\n",
              "  </style>\n",
              "\n",
              "    <script>\n",
              "      const buttonEl =\n",
              "        document.querySelector('#df-d92e6c35-c4fe-4da1-9e93-049a2b384245 button.colab-df-convert');\n",
              "      buttonEl.style.display =\n",
              "        google.colab.kernel.accessAllowed ? 'block' : 'none';\n",
              "\n",
              "      async function convertToInteractive(key) {\n",
              "        const element = document.querySelector('#df-d92e6c35-c4fe-4da1-9e93-049a2b384245');\n",
              "        const dataTable =\n",
              "          await google.colab.kernel.invokeFunction('convertToInteractive',\n",
              "                                                    [key], {});\n",
              "        if (!dataTable) return;\n",
              "\n",
              "        const docLinkHtml = 'Like what you see? Visit the ' +\n",
              "          '<a target=\"_blank\" href=https://colab.research.google.com/notebooks/data_table.ipynb>data table notebook</a>'\n",
              "          + ' to learn more about interactive tables.';\n",
              "        element.innerHTML = '';\n",
              "        dataTable['output_type'] = 'display_data';\n",
              "        await google.colab.output.renderOutput(dataTable, element);\n",
              "        const docLink = document.createElement('div');\n",
              "        docLink.innerHTML = docLinkHtml;\n",
              "        element.appendChild(docLink);\n",
              "      }\n",
              "    </script>\n",
              "  </div>\n",
              "\n",
              "\n",
              "<div id=\"df-59f527ce-2629-419c-b282-5769e5c7e5c2\">\n",
              "  <button class=\"colab-df-quickchart\" onclick=\"quickchart('df-59f527ce-2629-419c-b282-5769e5c7e5c2')\"\n",
              "            title=\"Suggest charts.\"\n",
              "            style=\"display:none;\">\n",
              "\n",
              "<svg xmlns=\"http://www.w3.org/2000/svg\" height=\"24px\"viewBox=\"0 0 24 24\"\n",
              "     width=\"24px\">\n",
              "    <g>\n",
              "        <path d=\"M19 3H5c-1.1 0-2 .9-2 2v14c0 1.1.9 2 2 2h14c1.1 0 2-.9 2-2V5c0-1.1-.9-2-2-2zM9 17H7v-7h2v7zm4 0h-2V7h2v10zm4 0h-2v-4h2v4z\"/>\n",
              "    </g>\n",
              "</svg>\n",
              "  </button>\n",
              "\n",
              "<style>\n",
              "  .colab-df-quickchart {\n",
              "      --bg-color: #E8F0FE;\n",
              "      --fill-color: #1967D2;\n",
              "      --hover-bg-color: #E2EBFA;\n",
              "      --hover-fill-color: #174EA6;\n",
              "      --disabled-fill-color: #AAA;\n",
              "      --disabled-bg-color: #DDD;\n",
              "  }\n",
              "\n",
              "  [theme=dark] .colab-df-quickchart {\n",
              "      --bg-color: #3B4455;\n",
              "      --fill-color: #D2E3FC;\n",
              "      --hover-bg-color: #434B5C;\n",
              "      --hover-fill-color: #FFFFFF;\n",
              "      --disabled-bg-color: #3B4455;\n",
              "      --disabled-fill-color: #666;\n",
              "  }\n",
              "\n",
              "  .colab-df-quickchart {\n",
              "    background-color: var(--bg-color);\n",
              "    border: none;\n",
              "    border-radius: 50%;\n",
              "    cursor: pointer;\n",
              "    display: none;\n",
              "    fill: var(--fill-color);\n",
              "    height: 32px;\n",
              "    padding: 0;\n",
              "    width: 32px;\n",
              "  }\n",
              "\n",
              "  .colab-df-quickchart:hover {\n",
              "    background-color: var(--hover-bg-color);\n",
              "    box-shadow: 0 1px 2px rgba(60, 64, 67, 0.3), 0 1px 3px 1px rgba(60, 64, 67, 0.15);\n",
              "    fill: var(--button-hover-fill-color);\n",
              "  }\n",
              "\n",
              "  .colab-df-quickchart-complete:disabled,\n",
              "  .colab-df-quickchart-complete:disabled:hover {\n",
              "    background-color: var(--disabled-bg-color);\n",
              "    fill: var(--disabled-fill-color);\n",
              "    box-shadow: none;\n",
              "  }\n",
              "\n",
              "  .colab-df-spinner {\n",
              "    border: 2px solid var(--fill-color);\n",
              "    border-color: transparent;\n",
              "    border-bottom-color: var(--fill-color);\n",
              "    animation:\n",
              "      spin 1s steps(1) infinite;\n",
              "  }\n",
              "\n",
              "  @keyframes spin {\n",
              "    0% {\n",
              "      border-color: transparent;\n",
              "      border-bottom-color: var(--fill-color);\n",
              "      border-left-color: var(--fill-color);\n",
              "    }\n",
              "    20% {\n",
              "      border-color: transparent;\n",
              "      border-left-color: var(--fill-color);\n",
              "      border-top-color: var(--fill-color);\n",
              "    }\n",
              "    30% {\n",
              "      border-color: transparent;\n",
              "      border-left-color: var(--fill-color);\n",
              "      border-top-color: var(--fill-color);\n",
              "      border-right-color: var(--fill-color);\n",
              "    }\n",
              "    40% {\n",
              "      border-color: transparent;\n",
              "      border-right-color: var(--fill-color);\n",
              "      border-top-color: var(--fill-color);\n",
              "    }\n",
              "    60% {\n",
              "      border-color: transparent;\n",
              "      border-right-color: var(--fill-color);\n",
              "    }\n",
              "    80% {\n",
              "      border-color: transparent;\n",
              "      border-right-color: var(--fill-color);\n",
              "      border-bottom-color: var(--fill-color);\n",
              "    }\n",
              "    90% {\n",
              "      border-color: transparent;\n",
              "      border-bottom-color: var(--fill-color);\n",
              "    }\n",
              "  }\n",
              "</style>\n",
              "\n",
              "  <script>\n",
              "    async function quickchart(key) {\n",
              "      const quickchartButtonEl =\n",
              "        document.querySelector('#' + key + ' button');\n",
              "      quickchartButtonEl.disabled = true;  // To prevent multiple clicks.\n",
              "      quickchartButtonEl.classList.add('colab-df-spinner');\n",
              "      try {\n",
              "        const charts = await google.colab.kernel.invokeFunction(\n",
              "            'suggestCharts', [key], {});\n",
              "      } catch (error) {\n",
              "        console.error('Error during call to suggestCharts:', error);\n",
              "      }\n",
              "      quickchartButtonEl.classList.remove('colab-df-spinner');\n",
              "      quickchartButtonEl.classList.add('colab-df-quickchart-complete');\n",
              "    }\n",
              "    (() => {\n",
              "      let quickchartButtonEl =\n",
              "        document.querySelector('#df-59f527ce-2629-419c-b282-5769e5c7e5c2 button');\n",
              "      quickchartButtonEl.style.display =\n",
              "        google.colab.kernel.accessAllowed ? 'block' : 'none';\n",
              "    })();\n",
              "  </script>\n",
              "</div>\n",
              "    </div>\n",
              "  </div>\n"
            ]
          },
          "metadata": {},
          "execution_count": 3
        }
      ]
    },
    {
      "cell_type": "markdown",
      "source": [
        "# 3. Data Splitting\n",
        "Now we will split our data into the following:\n",
        "\n",
        "*   Training Size 70%\n",
        "*   Validation Size 15%\n",
        "*   Testing Size 15%\n",
        "\n",
        "We will do this by splitting our data twice using the `train_test_split` function in `sklearn` the function takes inputs, outputs and the testing size. After that we will print the training, validation and testing shapes and sizes."
      ],
      "metadata": {
        "id": "zaFElfPjL9V3"
      }
    },
    {
      "cell_type": "code",
      "source": [
        "X_train, X_test, y_train, y_test = train_test_split(np.array(data_df[\"headline\"]), np.array(data_df[\"is_sarcastic\"]), test_size=0.3)\n",
        "X_val, X_test, y_val, y_test = train_test_split(X_test, y_test, test_size=0.5)"
      ],
      "metadata": {
        "id": "hokW9q5H84jb"
      },
      "execution_count": 4,
      "outputs": []
    },
    {
      "cell_type": "code",
      "source": [
        "print(\"Training set is: \", X_train.shape[0], \" rows which is \", round(X_train.shape[0]/data_df.shape[0],4)*100, \"%\")\n",
        "print(\"Validation set is: \",X_val.shape[0], \" rows which is \", round(X_val.shape[0]/data_df.shape[0],4)*100, \"%\")\n",
        "print(\"Testing set is: \",X_test.shape[0], \" rows which is \", round(X_test.shape[0]/data_df.shape[0],4)*100, \"%\")"
      ],
      "metadata": {
        "colab": {
          "base_uri": "https://localhost:8080/"
        },
        "id": "Pl2jXW2s-Cz9",
        "outputId": "c1a8d48d-579e-4f1f-c6c2-9dee505cce50"
      },
      "execution_count": 5,
      "outputs": [
        {
          "output_type": "stream",
          "name": "stdout",
          "text": [
            "Training set is:  18696  rows which is  70.0 %\n",
            "Validation set is:  4006  rows which is  15.0 %\n",
            "Testing set is:  4007  rows which is  15.0 %\n"
          ]
        }
      ]
    },
    {
      "cell_type": "markdown",
      "source": [
        "# 4. Download Model and tokenizer\n",
        "In the next cell, we will download the model `bert-base-uncased` and its tokenizer using the function `from_pretrained`. Make sure that if you use any model on huggingface or any transformer or pretrained model, use its own tokenizer, if you use any tokenizer with any model the results will be very bad as it wasn't designed for that model.\n",
        "\n"
      ],
      "metadata": {
        "id": "5tghc-3yM5cP"
      }
    },
    {
      "cell_type": "code",
      "source": [
        "tokenizer = AutoTokenizer.from_pretrained(\"bert-base-uncased\")\n",
        "bert_model = AutoModel.from_pretrained(\"bert-base-uncased\")"
      ],
      "metadata": {
        "id": "NQdfbj61_EWd"
      },
      "execution_count": 6,
      "outputs": []
    },
    {
      "cell_type": "markdown",
      "source": [
        "# 5. Dataset Object\n",
        "Now we will create the dataset object. This part is not complex but its a bit tricky. We need to convert our dataset to PyTorch `Dataset` object as it will be more efficient during training, you can use the dataset as its, but lets keep things professional and efficient. First we define our class that will be taking the main `Dataset` class with the concept of inheritance. Let's make the concept simpler. There is a big class that PyTorch, this class has several functions inside it, we will recreate that class and modify some functions to match our needs.\n",
        "\n",
        "In the cell below, we rebuilt the `constructor` function which is `__init__`. We put `X` and `Y` as a parameters to this function which are the inputs and outputs respectively, then inside the function we define the tokenized inputs using the tokenizer function and converting the outputs to tensors. Additionally, we moved all our data to cuda device. Keep in mind that we set `return_tensors` as `pt` which means return pytorch tensors, other option would be `tf` which is tensorflow tensors. Most of the existing transformers now don't support tensorflow. Then we modified the `__len__` and the `__getitem__` to match our needs which gets the specific length/shape of the data, and the data of specific row in our data respectively."
      ],
      "metadata": {
        "id": "xi0ijes0NfOb"
      }
    },
    {
      "cell_type": "code",
      "source": [
        "class dataset(Dataset):\n",
        "    def __init__(self, X, Y):\n",
        "        self.X = [tokenizer(x,\n",
        "                            max_length = 100,\n",
        "                            truncation = True,\n",
        "                            padding = 'max_length',\n",
        "                            return_tensors='pt').to(device)\n",
        "                  for x in X\n",
        "                 ]\n",
        "\n",
        "        self.Y = torch.tensor(Y).to(device)\n",
        "    def __len__(self):\n",
        "        return len(self.X)\n",
        "    def __getitem__(self, index):\n",
        "        return self.X[index], self.Y[index]\n",
        "\n",
        "training_data = dataset(X_train, y_train)\n",
        "validation_data = dataset(X_val, y_val)\n",
        "testing_data = dataset(X_test, y_test)"
      ],
      "metadata": {
        "id": "ety1c6kFAnXO"
      },
      "execution_count": 7,
      "outputs": []
    },
    {
      "cell_type": "markdown",
      "source": [
        "# 6. Training Hyper Parameters\n",
        "Now we are setting the training hyperparameters, we defined some variables which are the batch size, number of training epochs and learning rate."
      ],
      "metadata": {
        "id": "Y8ILFmPPQct4"
      }
    },
    {
      "cell_type": "code",
      "source": [
        "BATCH_SIZE = 32\n",
        "EPOCHS = 25\n",
        "LR = 1e-4"
      ],
      "metadata": {
        "id": "aOCXB0guB56U"
      },
      "execution_count": 8,
      "outputs": []
    },
    {
      "cell_type": "markdown",
      "source": [
        "# 7. Data Loaders\n",
        "This concept may seem complicated, but its very easy, PyTorch provides a class called `DataLoader` which allows us to create objects of it to simplify the training.\n",
        "\n",
        "`Dataloader` is an object that we can loop through it to train according to batches. When we start training, we loop through epochs, if you skip the batch size it means that the amount of training data in one batch is equal to the complete amount of training data, this method is not efficient and in most of the cases you need to train through using batches. `Dataloader` allows you to loop through the batches easily during the training. When you create a dataloader. You define the batch size and enable the shuffle to randomize the data and then you can loop through it in each epoch to train normally.\n",
        "\n",
        "In the next cell, we defined a dataloader for each of our data (training, validation and testing)."
      ],
      "metadata": {
        "id": "H6lnYwBHQsts"
      }
    },
    {
      "cell_type": "code",
      "source": [
        "train_dataloader = DataLoader(training_data, batch_size=BATCH_SIZE, shuffle= True)\n",
        "validation_dataloader = DataLoader(validation_data, batch_size=BATCH_SIZE, shuffle= True)\n",
        "testing_dataloader = DataLoader(testing_data, batch_size=BATCH_SIZE, shuffle= True)"
      ],
      "metadata": {
        "id": "gqr4FlauCHC4"
      },
      "execution_count": 9,
      "outputs": []
    },
    {
      "cell_type": "markdown",
      "source": [
        "# 8. Model Class\n",
        "Creating a model in PyTorch seems not very straight forward in the beggining, but if you understand how machine learning and deep learning works, it will be easy for you to understand PyTorch structure easily.\n",
        "\n",
        "In the next cell we define a new class `MyModel` that inherits from `nn.Module` like we did for the dataset. Remember, in simple terms, we want to redefine some functions in the class to match our needs. In the constructor which is `__init__` and we give it the bert model. Then `super(MyModel, self).__init__()` This line calls the constructor of the parent class `nn.Module` to ensure it's properly initialized. Which means we have the original constructor together with our part of it!\n",
        "\n",
        "Then, we create our layers, we will have in addition to bert layers a dropout layer, 2 linear (dense) layers and a sigmoid activation function since we are dealing with Binary Classification Problem. Keep in mind that we have to mention for each layer the number of inputs and outputs except for the dropout layer. Linear 2 in this case is the output layer without the activation.\n",
        "\n",
        "In the function forward, this function is the forward propagation of the model, how is the data flowing inside the model from the input to the output. This means we can control this completely. That's how PyTorch is so customizable! In the below cell, we define the flow as follows, starting by Bert followed by a linear layer then dropout, another linear and finally the sigmoid."
      ],
      "metadata": {
        "id": "vO2N0d9CR8wD"
      }
    },
    {
      "cell_type": "code",
      "source": [
        "class MyModel(nn.Module):\n",
        "    def __init__(self, bert):\n",
        "\n",
        "        super(MyModel, self).__init__()\n",
        "\n",
        "        self.bert = bert\n",
        "        self.dropout = nn.Dropout(0.25)\n",
        "        self.linear1 = nn.Linear(768, 384)\n",
        "        self.linear2 = nn.Linear(384, 1)\n",
        "        self.sigmoid = nn.Sigmoid()\n",
        "\n",
        "    def forward(self, input_ids, attention_mask):\n",
        "        pooled_output = self.bert(input_ids, attention_mask, return_dict = False)[0][:,0]\n",
        "        output = self.linear1(pooled_output)\n",
        "        output = self.dropout(output)\n",
        "        output = self.linear2(output)\n",
        "        output = self.sigmoid(output)\n",
        "\n",
        "        return output"
      ],
      "metadata": {
        "id": "UHca8UXrCPNi"
      },
      "execution_count": 10,
      "outputs": []
    },
    {
      "cell_type": "markdown",
      "source": [
        "# 9. Pretraining\n",
        "This part is very small, the first 2 lines in the next cell we are freezing the bert model weight. Remember that Bert is a pretrained transformer that has been already trained on a huge amount of data. We want to fine-tune it on our task and not training from scratch. The model already has good amount of \"Knowledge\". Then we create an object of our model that we defined previously giving to it Bert and we mode it to Cuda."
      ],
      "metadata": {
        "id": "Z2YllOwpUwa0"
      }
    },
    {
      "cell_type": "code",
      "source": [
        "for param in bert_model.parameters():\n",
        "    param.requires_grad = False\n",
        "model = MyModel(bert_model).to(device)"
      ],
      "metadata": {
        "id": "rHgTaK23Blcw"
      },
      "execution_count": 11,
      "outputs": []
    },
    {
      "cell_type": "markdown",
      "source": [
        "# 10. Loss and Optimizer\n",
        "In this cell, we define our loss function as Binary Cross Entropy which is `nn.BCELoss` in PyTorch. Then, we will define the optimizer and we will give it the model parameters/weights which will be the parameters of the new layers we added as those are the parameters we will want to train."
      ],
      "metadata": {
        "id": "psJRZJgaVTTv"
      }
    },
    {
      "cell_type": "code",
      "source": [
        "criterion = nn.BCELoss()\n",
        "optimizer = (Adam(model.parameters(), lr= LR))"
      ],
      "metadata": {
        "id": "dq8PygIFCgTv"
      },
      "execution_count": 12,
      "outputs": []
    },
    {
      "cell_type": "markdown",
      "source": [
        "# 11. Training Loop\n",
        "Now comes the exciting part. As we mentioned several times, nothing is complex here if you know how deep learning works. You just need to know PyTorch syntax. We start by initializing the for loop with the specified number of epochs. But before that we define 4 lists and inside the loop we define another 4 variables.\n",
        "\n",
        "\n",
        "### Variables:\n",
        "*   `total_acc_train`: here we will keep tracking of the training accuracy progress during each epoch, we calculate the accuracy during the batch size and we print it in the end for tracking the accuracy on each epoch.\n",
        "\n",
        "*   `total_loss_train`: here we will keep tracking of the training loss progress during each epoch, we calculate the accuracy during the batch size and we use the loss value to optimize and modify the model parameters.\n",
        "\n",
        "*   `total_acc_val`: here we will keep tracking of the validation accuracy progress during each epoch, we calculate the accuracy during the batch size and we print it in the end for tracking the accuracy on each epoch and help us know if there is any overfitting.\n",
        "\n",
        "*   `total_loss_val`: here we will keep tracking of the validation loss progress during each epoch, we calculate the accuracy during the batch size.\n",
        "\n",
        "### Lists:\n",
        "*    `total_acc_train_plot`: We append the losses of the training accuracy to visualize them at the end.\n",
        "\n",
        "*    `total_loss_train_plot`: We append the losses of the training to visualize them at the end.\n",
        "\n",
        "*    `total_acc_validation_plot`: We append the losses of the validation accuracy to visualize them at the end.\n",
        "\n",
        "*    `total_loss_validation_plot`: We append the losses of the validation to visualize them at the end.\n",
        "\n",
        "## - Training\n",
        "Then, we start to loop through the training dataloaders, we use the `enumerate` functionality to loop through data and indices at the same time. We are not using the indices here, but lets kept it just if you want to try different stuff with the loop or debug. In the second loop, we start by getting our data from the data loader, then we move the inputs and labels to the cuda device. We allow the model to make a prediction or what is called forward propagation, then we get the output of the model and compare it with our original output using the loss criteration, we add the loss amount to `total_loss_train`. Additionally, we get the accuracy by comparing the correct batch with the predicted batch and we add it to the `total_acc_train`. Then we do the `batch_loss.backward()` which makes the backpropagation and we use the optimizer to do a step on the weights using `optimizer.step()` and then we reset the optimizer gradients using `optimizer.zero_grad()` which is a very important step that has to be done before proceeding.\n",
        "\n",
        "## - Validation\n",
        "After that we exit the batch loop (train dataloader loop) and we start with the validation. Don't forget that we are still in the same epoch. In side that we start by `with torch.no_grad()` which means that we need the model to do predicitons without being trained. We just need to see the validation preformance. Then we do the same steps which are predicting and calculating loss and accuracy and storing these values.\n",
        "\n",
        "At the end we print after each epoch the epoch number, training loss, training accuracy, validation loss and validation accuracy. We use the printing of \"=\" signs just for making the printing output looks clean.\n",
        "\n",
        "\n"
      ],
      "metadata": {
        "id": "TwWZJ02TVyJN"
      }
    },
    {
      "cell_type": "code",
      "source": [
        "total_loss_train_plot = []\n",
        "total_loss_validation_plot = []\n",
        "total_acc_train_plot = []\n",
        "total_acc_validation_plot = []\n",
        "\n",
        "for epoch in range(EPOCHS):\n",
        "    total_acc_train = 0\n",
        "    total_loss_train = 0\n",
        "    total_acc_val = 0\n",
        "    total_loss_val = 0\n",
        "    ## Training and Validation\n",
        "    for indx, data in enumerate(train_dataloader):\n",
        "        input, label = data\n",
        "\n",
        "        input.to(device)\n",
        "        label.to(device)\n",
        "\n",
        "        prediction = model(input['input_ids'].squeeze(1),\n",
        "                            input['attention_mask'].squeeze(1)).squeeze(1)\n",
        "\n",
        "\n",
        "        batch_loss = criterion(prediction.squeeze(), label.float())\n",
        "\n",
        "        total_loss_train += batch_loss.item()\n",
        "\n",
        "\n",
        "        acc = (torch.round(prediction).float() == label.float()).sum().item()\n",
        "        total_acc_train += acc\n",
        "\n",
        "\n",
        "\n",
        "        batch_loss.backward()\n",
        "        optimizer.step()\n",
        "        optimizer.zero_grad()\n",
        "\n",
        "    ## Validation\n",
        "    with torch.no_grad():\n",
        "        for indx, data in enumerate(validation_dataloader):\n",
        "            input, label = data\n",
        "            input.to(device)\n",
        "            label.to(device)\n",
        "\n",
        "            prediction = model(input['input_ids'].squeeze(1),\n",
        "                            input['attention_mask'].squeeze(1)).squeeze(1)\n",
        "\n",
        "            batch_loss_val = criterion(prediction.squeeze(), label.float())\n",
        "            total_loss_val += batch_loss_val.item()\n",
        "\n",
        "\n",
        "            acc = (torch.round(prediction).float() == label.float()).sum().item()\n",
        "\n",
        "\n",
        "\n",
        "            total_acc_val += acc\n",
        "\n",
        "\n",
        "    total_loss_train_plot.append(round(total_loss_train/1000, 4))\n",
        "    total_loss_validation_plot.append(round(total_loss_val/1000, 4))\n",
        "    total_acc_train_plot.append(round(total_acc_train/(training_data.__len__())*100, 4))\n",
        "    total_acc_validation_plot.append(round(total_acc_val/(validation_data.__len__())*100, 4))\n",
        "\n",
        "    print(f'''Epoch no. {epoch + 1} Train Loss: {total_loss_train/1000:.4f} Train Accuracy: {(total_acc_train/(training_data.__len__())*100):.4f} Validation Loss: {total_loss_val/1000:.4f} Validation Accuracy: {(total_acc_val/(validation_data.__len__())*100):.4f}''')\n",
        "    print(\"=\"*50)\n"
      ],
      "metadata": {
        "colab": {
          "base_uri": "https://localhost:8080/"
        },
        "id": "2uoLgdllCSFh",
        "outputId": "f70cb4c1-14e3-4f5f-97ac-9b75eea461cd"
      },
      "execution_count": 13,
      "outputs": [
        {
          "output_type": "stream",
          "name": "stdout",
          "text": [
            "Epoch no. 1 Train Loss: 0.2608 Train Accuracy: 79.9101 Validation Loss: 0.0491 Validation Accuracy: 83.2002\n",
            "==================================================\n",
            "Epoch no. 2 Train Loss: 0.2111 Train Accuracy: 84.6973 Validation Loss: 0.0452 Validation Accuracy: 84.0240\n",
            "==================================================\n",
            "Epoch no. 3 Train Loss: 0.1983 Train Accuracy: 85.4675 Validation Loss: 0.0436 Validation Accuracy: 84.6480\n",
            "==================================================\n",
            "Epoch no. 4 Train Loss: 0.1910 Train Accuracy: 85.9489 Validation Loss: 0.0426 Validation Accuracy: 84.7978\n",
            "==================================================\n",
            "Epoch no. 5 Train Loss: 0.1865 Train Accuracy: 86.3126 Validation Loss: 0.0432 Validation Accuracy: 84.7229\n",
            "==================================================\n",
            "Epoch no. 6 Train Loss: 0.1838 Train Accuracy: 86.4998 Validation Loss: 0.0428 Validation Accuracy: 85.2971\n",
            "==================================================\n",
            "Epoch no. 7 Train Loss: 0.1810 Train Accuracy: 86.8582 Validation Loss: 0.0426 Validation Accuracy: 84.9725\n",
            "==================================================\n",
            "Epoch no. 8 Train Loss: 0.1796 Train Accuracy: 86.8795 Validation Loss: 0.0417 Validation Accuracy: 85.3470\n",
            "==================================================\n",
            "Epoch no. 9 Train Loss: 0.1797 Train Accuracy: 86.9491 Validation Loss: 0.0419 Validation Accuracy: 84.9725\n",
            "==================================================\n",
            "Epoch no. 10 Train Loss: 0.1762 Train Accuracy: 87.1309 Validation Loss: 0.0416 Validation Accuracy: 85.3470\n",
            "==================================================\n",
            "Epoch no. 11 Train Loss: 0.1755 Train Accuracy: 87.3181 Validation Loss: 0.0424 Validation Accuracy: 85.0474\n",
            "==================================================\n",
            "Epoch no. 12 Train Loss: 0.1754 Train Accuracy: 87.4037 Validation Loss: 0.0428 Validation Accuracy: 85.3719\n",
            "==================================================\n",
            "Epoch no. 13 Train Loss: 0.1733 Train Accuracy: 87.3930 Validation Loss: 0.0417 Validation Accuracy: 85.1473\n",
            "==================================================\n",
            "Epoch no. 14 Train Loss: 0.1735 Train Accuracy: 87.3877 Validation Loss: 0.0416 Validation Accuracy: 85.7464\n",
            "==================================================\n",
            "Epoch no. 15 Train Loss: 0.1729 Train Accuracy: 87.3502 Validation Loss: 0.0423 Validation Accuracy: 84.9476\n",
            "==================================================\n",
            "Epoch no. 16 Train Loss: 0.1722 Train Accuracy: 87.2647 Validation Loss: 0.0416 Validation Accuracy: 85.4219\n",
            "==================================================\n",
            "Epoch no. 17 Train Loss: 0.1716 Train Accuracy: 87.5160 Validation Loss: 0.0421 Validation Accuracy: 85.4468\n",
            "==================================================\n",
            "Epoch no. 18 Train Loss: 0.1712 Train Accuracy: 87.4305 Validation Loss: 0.0417 Validation Accuracy: 85.8462\n",
            "==================================================\n",
            "Epoch no. 19 Train Loss: 0.1732 Train Accuracy: 87.4786 Validation Loss: 0.0417 Validation Accuracy: 85.7214\n",
            "==================================================\n",
            "Epoch no. 20 Train Loss: 0.1713 Train Accuracy: 87.5160 Validation Loss: 0.0420 Validation Accuracy: 85.4718\n",
            "==================================================\n",
            "Epoch no. 21 Train Loss: 0.1716 Train Accuracy: 87.3395 Validation Loss: 0.0416 Validation Accuracy: 84.9226\n",
            "==================================================\n",
            "Epoch no. 22 Train Loss: 0.1701 Train Accuracy: 87.7460 Validation Loss: 0.0420 Validation Accuracy: 85.4968\n",
            "==================================================\n",
            "Epoch no. 23 Train Loss: 0.1699 Train Accuracy: 87.6979 Validation Loss: 0.0411 Validation Accuracy: 85.5716\n",
            "==================================================\n",
            "Epoch no. 24 Train Loss: 0.1700 Train Accuracy: 87.5695 Validation Loss: 0.0417 Validation Accuracy: 85.3719\n",
            "==================================================\n",
            "Epoch no. 25 Train Loss: 0.1716 Train Accuracy: 87.5053 Validation Loss: 0.0433 Validation Accuracy: 84.9725\n",
            "==================================================\n"
          ]
        }
      ]
    },
    {
      "cell_type": "markdown",
      "source": [
        "# 12. Testing\n",
        "Now in this section, we will be testing our model, we will start the code by ```with torch.no_grad():``` which means that we are telling PyTorch that we don't want to train the model we will be using it only for testing. Then we will declare initial loss and accuracy as zeros, we will start by looping through the testing dataloader like we did before during training. Inside the loop, we got our data and we moved it to our GPU (cuda) and then we ran our model on the data and we got the predictions. After that we get the loss and then we add it to our overall loss, we do the same for accuracy, and finally we print the accuracy.\n",
        "\n"
      ],
      "metadata": {
        "id": "WwCEX_58Hh0A"
      }
    },
    {
      "cell_type": "code",
      "source": [
        "with torch.no_grad():\n",
        "  total_loss_test = 0\n",
        "  total_acc_test = 0\n",
        "  for indx, data in enumerate(testing_dataloader):\n",
        "    input, label = data\n",
        "    input.to(device)\n",
        "    label.to(device)\n",
        "\n",
        "    prediction = model(input['input_ids'].squeeze(1),\n",
        "                    input['attention_mask'].squeeze(1)).squeeze(1)\n",
        "\n",
        "    batch_loss_test = criterion(prediction.squeeze(), label.float())\n",
        "    total_loss_test += batch_loss_val.item()\n",
        "    acc = (torch.round(prediction).float() == label.float()).sum().item()\n",
        "    total_acc_test += acc\n",
        "\n",
        "print(f\"Accuracy Score is: {round((total_acc_test/X_test.shape[0])*100, 2)}%\")"
      ],
      "metadata": {
        "colab": {
          "base_uri": "https://localhost:8080/"
        },
        "id": "sbn4vDHMC0DK",
        "outputId": "f4d7191c-51de-4500-d8fd-e55b3dcb9007"
      },
      "execution_count": 14,
      "outputs": [
        {
          "output_type": "stream",
          "name": "stdout",
          "text": [
            "Accuracy Score is: 85.23%\n"
          ]
        }
      ]
    },
    {
      "cell_type": "markdown",
      "source": [
        "# 13. Plotting and Visualizations (Optional)\n",
        "The results may not be very good, feel free to play with the layers, hyperparameters and text filteration to achieve better performance!"
      ],
      "metadata": {
        "id": "MYBHs7dCXNGq"
      }
    },
    {
      "cell_type": "code",
      "source": [
        "fig, axs = plt.subplots(nrows=1, ncols=2, figsize=(15, 5))\n",
        "\n",
        "axs[0].plot(total_loss_train_plot, label='Training Loss')\n",
        "axs[0].plot(total_loss_validation_plot, label='Validation Loss')\n",
        "axs[0].set_title('Training and Validation Loss over Epochs')\n",
        "axs[0].set_xlabel('Epochs')\n",
        "axs[0].set_ylabel('Loss')\n",
        "axs[0].legend()\n",
        "\n",
        "axs[1].plot(total_acc_train_plot, label='Training Accuracy')\n",
        "axs[1].plot(total_acc_validation_plot, label='Validation Accuracy')\n",
        "axs[1].set_title('Training and Validation Accuracy over Epochs')\n",
        "axs[1].set_xlabel('Epochs')\n",
        "axs[1].set_ylabel('Accuracy')\n",
        "axs[1].legend()\n",
        "\n",
        "plt.tight_layout()\n",
        "\n",
        "plt.show()"
      ],
      "metadata": {
        "colab": {
          "base_uri": "https://localhost:8080/",
          "height": 507
        },
        "id": "RwynCNZ3Gusa",
        "outputId": "8417df87-bc48-4280-e074-6142d0e90ef9"
      },
      "execution_count": 27,
      "outputs": [
        {
          "output_type": "display_data",
          "data": {
            "text/plain": [
              "<Figure size 1500x500 with 2 Axes>"
            ],
            "image/png": "[encoded data removed]"
          },
          "metadata": {}
        }
      ]
    }
  ]
}