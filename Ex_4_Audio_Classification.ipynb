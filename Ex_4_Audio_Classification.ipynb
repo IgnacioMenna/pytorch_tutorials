{
  "nbformat": 4,
  "nbformat_minor": 0,
  "metadata": {
    "colab": {
      "provenance": [],
      "gpuType": "T4"
    },
    "kernelspec": {
      "name": "python3",
      "display_name": "Python 3"
    },
    "language_info": {
      "name": "python"
    },
    "accelerator": "GPU"
  },
  "cells": [
    {
      "cell_type": "code",
      "execution_count": 1,
      "metadata": {
        "colab": {
          "base_uri": "https://localhost:8080/"
        },
        "id": "UKxK7J8n1dX4",
        "outputId": "8e3f9634-086a-4a96-db96-ba7baf1a1297"
      },
      "outputs": [
        {
          "output_type": "stream",
          "name": "stdout",
          "text": [
            "Skipping, found downloaded files in \"./quran-recitations-for-audio-classification\" (use force=True to force download)\n"
          ]
        }
      ],
      "source": [
        "!pip install opendatasets --quiet\n",
        "import opendatasets as od\n",
        "od.download(\"https://www.kaggle.com/datasets/mohammedalrajeh/quran-recitations-for-audio-classification\")"
      ]
    },
    {
      "cell_type": "code",
      "source": [
        "import torch # Main PyTorch Library\n",
        "from torch import nn # Used for creating the layers and loss function\n",
        "from torch.optim import Adam # Adam Optimizer\n",
        "import torchvision.transforms as transforms # Transform function used to modify and preprocess all the images\n",
        "import librosa\n",
        "from torch.utils.data import Dataset, DataLoader # Dataset class and DataLoader for creating the objects\n",
        "from sklearn.preprocessing import LabelEncoder # Label Encoder to encode the classes from strings to numbers\n",
        "import matplotlib.pyplot as plt # Used for visualizing the images and plotting the training progress\n",
        "from PIL import Image # Used to read the images from the directory\n",
        "import pandas as pd # Used to read/create dataframes (csv) and process tabular data\n",
        "import numpy as np # preprocessing and numerical/mathematical operations\n",
        "import os # Used to read the images path from the directory\n",
        "\n",
        "device = \"cuda\" if torch.cuda.is_available() else \"cpu\" # detect the GPU if any, if not use CPU, change cuda to mps if you have a mac"
      ],
      "metadata": {
        "id": "fVzAOYGA1hgJ"
      },
      "execution_count": 2,
      "outputs": []
    },
    {
      "cell_type": "code",
      "source": [
        "data_df = pd.read_csv(\"/content/quran-recitations-for-audio-classification/files_paths.csv\")\n",
        "\n",
        "\n",
        "data_df['FilePath'] = '/content/quran-recitations-for-audio-classification/Dataset/' + data_df['FilePath'].str[1:]\n",
        "\n",
        "print(data_df.shape)\n",
        "data_df.head()"
      ],
      "metadata": {
        "colab": {
          "base_uri": "https://localhost:8080/",
          "height": 224
        },
        "id": "NkofIz-w2XTD",
        "outputId": "3a0290fc-f161-4276-f297-3c5018b37a35"
      },
      "execution_count": 3,
      "outputs": [
        {
          "output_type": "stream",
          "name": "stdout",
          "text": [
            "(6687, 2)\n"
          ]
        },
        {
          "output_type": "execute_result",
          "data": {
            "text/plain": [
              "                                            FilePath               Class\n",
              "0  /content/quran-recitations-for-audio-classific...  Mohammed_Aluhaidan\n",
              "1  /content/quran-recitations-for-audio-classific...  Mohammed_Aluhaidan\n",
              "2  /content/quran-recitations-for-audio-classific...  Mohammed_Aluhaidan\n",
              "3  /content/quran-recitations-for-audio-classific...  Mohammed_Aluhaidan\n",
              "4  /content/quran-recitations-for-audio-classific...  Mohammed_Aluhaidan"
            ],
            "text/html": [
              "\n",
              "  <div id=\"df-86c43203-45bb-411b-bd91-1e0ef4188949\" class=\"colab-df-container\">\n",
              "    <div>\n",
              "<style scoped>\n",
              "    .dataframe tbody tr th:only-of-type {\n",
              "        vertical-align: middle;\n",
              "    }\n",
              "\n",
              "    .dataframe tbody tr th {\n",
              "        vertical-align: top;\n",
              "    }\n",
              "\n",
              "    .dataframe thead th {\n",
              "        text-align: right;\n",
              "    }\n",
              "</style>\n",
              "<table border=\"1\" class=\"dataframe\">\n",
              "  <thead>\n",
              "    <tr style=\"text-align: right;\">\n",
              "      <th></th>\n",
              "      <th>FilePath</th>\n",
              "      <th>Class</th>\n",
              "    </tr>\n",
              "  </thead>\n",
              "  <tbody>\n",
              "    <tr>\n",
              "      <th>0</th>\n",
              "      <td>/content/quran-recitations-for-audio-classific...</td>\n",
              "      <td>Mohammed_Aluhaidan</td>\n",
              "    </tr>\n",
              "    <tr>\n",
              "      <th>1</th>\n",
              "      <td>/content/quran-recitations-for-audio-classific...</td>\n",
              "      <td>Mohammed_Aluhaidan</td>\n",
              "    </tr>\n",
              "    <tr>\n",
              "      <th>2</th>\n",
              "      <td>/content/quran-recitations-for-audio-classific...</td>\n",
              "      <td>Mohammed_Aluhaidan</td>\n",
              "    </tr>\n",
              "    <tr>\n",
              "      <th>3</th>\n",
              "      <td>/content/quran-recitations-for-audio-classific...</td>\n",
              "      <td>Mohammed_Aluhaidan</td>\n",
              "    </tr>\n",
              "    <tr>\n",
              "      <th>4</th>\n",
              "      <td>/content/quran-recitations-for-audio-classific...</td>\n",
              "      <td>Mohammed_Aluhaidan</td>\n",
              "    </tr>\n",
              "  </tbody>\n",
              "</table>\n",
              "</div>\n",
              "    <div class=\"colab-df-buttons\">\n",
              "\n",
              "  <div class=\"colab-df-container\">\n",
              "    <button class=\"colab-df-convert\" onclick=\"convertToInteractive('df-86c43203-45bb-411b-bd91-1e0ef4188949')\"\n",
              "            title=\"Convert this dataframe to an interactive table.\"\n",
              "            style=\"display:none;\">\n",
              "\n",
              "  <svg xmlns=\"http://www.w3.org/2000/svg\" height=\"24px\" viewBox=\"0 -960 960 960\">\n",
              "    <path d=\"M120-120v-720h720v720H120Zm60-500h600v-160H180v160Zm220 220h160v-160H400v160Zm0 220h160v-160H400v160ZM180-400h160v-160H180v160Zm440 0h160v-160H620v160ZM180-180h160v-160H180v160Zm440 0h160v-160H620v160Z\"/>\n",
              "  </svg>\n",
              "    </button>\n",
              "\n",
              "  <style>\n",
              "    .colab-df-container {\n",
              "      display:flex;\n",
              "      gap: 12px;\n",
              "    }\n",
              "\n",
              "    .colab-df-convert {\n",
              "      background-color: #E8F0FE;\n",
              "      border: none;\n",
              "      border-radius: 50%;\n",
              "      cursor: pointer;\n",
              "      display: none;\n",
              "      fill: #1967D2;\n",
              "      height: 32px;\n",
              "      padding: 0 0 0 0;\n",
              "      width: 32px;\n",
              "    }\n",
              "\n",
              "    .colab-df-convert:hover {\n",
              "      background-color: #E2EBFA;\n",
              "      box-shadow: 0px 1px 2px rgba(60, 64, 67, 0.3), 0px 1px 3px 1px rgba(60, 64, 67, 0.15);\n",
              "      fill: #174EA6;\n",
              "    }\n",
              "\n",
              "    .colab-df-buttons div {\n",
              "      margin-bottom: 4px;\n",
              "    }\n",
              "\n",
              "    [theme=dark] .colab-df-convert {\n",
              "      background-color: #3B4455;\n",
              "      fill: #D2E3FC;\n",
              "    }\n",
              "\n",
              "    [theme=dark] .colab-df-convert:hover {\n",
              "      background-color: #434B5C;\n",
              "      box-shadow: 0px 1px 3px 1px rgba(0, 0, 0, 0.15);\n",
              "      filter: drop-shadow(0px 1px 2px rgba(0, 0, 0, 0.3));\n",
              "      fill: #FFFFFF;\n",
              "    }\n",
              "  </style>\n",
              "\n",
              "    <script>\n",
              "      const buttonEl =\n",
              "        document.querySelector('#df-86c43203-45bb-411b-bd91-1e0ef4188949 button.colab-df-convert');\n",
              "      buttonEl.style.display =\n",
              "        google.colab.kernel.accessAllowed ? 'block' : 'none';\n",
              "\n",
              "      async function convertToInteractive(key) {\n",
              "        const element = document.querySelector('#df-86c43203-45bb-411b-bd91-1e0ef4188949');\n",
              "        const dataTable =\n",
              "          await google.colab.kernel.invokeFunction('convertToInteractive',\n",
              "                                                    [key], {});\n",
              "        if (!dataTable) return;\n",
              "\n",
              "        const docLinkHtml = 'Like what you see? Visit the ' +\n",
              "          '<a target=\"_blank\" href=https://colab.research.google.com/notebooks/data_table.ipynb>data table notebook</a>'\n",
              "          + ' to learn more about interactive tables.';\n",
              "        element.innerHTML = '';\n",
              "        dataTable['output_type'] = 'display_data';\n",
              "        await google.colab.output.renderOutput(dataTable, element);\n",
              "        const docLink = document.createElement('div');\n",
              "        docLink.innerHTML = docLinkHtml;\n",
              "        element.appendChild(docLink);\n",
              "      }\n",
              "    </script>\n",
              "  </div>\n",
              "\n",
              "\n",
              "<div id=\"df-bb8daf73-36bc-4481-8a6d-df2d22630daf\">\n",
              "  <button class=\"colab-df-quickchart\" onclick=\"quickchart('df-bb8daf73-36bc-4481-8a6d-df2d22630daf')\"\n",
              "            title=\"Suggest charts\"\n",
              "            style=\"display:none;\">\n",
              "\n",
              "<svg xmlns=\"http://www.w3.org/2000/svg\" height=\"24px\"viewBox=\"0 0 24 24\"\n",
              "     width=\"24px\">\n",
              "    <g>\n",
              "        <path d=\"M19 3H5c-1.1 0-2 .9-2 2v14c0 1.1.9 2 2 2h14c1.1 0 2-.9 2-2V5c0-1.1-.9-2-2-2zM9 17H7v-7h2v7zm4 0h-2V7h2v10zm4 0h-2v-4h2v4z\"/>\n",
              "    </g>\n",
              "</svg>\n",
              "  </button>\n",
              "\n",
              "<style>\n",
              "  .colab-df-quickchart {\n",
              "      --bg-color: #E8F0FE;\n",
              "      --fill-color: #1967D2;\n",
              "      --hover-bg-color: #E2EBFA;\n",
              "      --hover-fill-color: #174EA6;\n",
              "      --disabled-fill-color: #AAA;\n",
              "      --disabled-bg-color: #DDD;\n",
              "  }\n",
              "\n",
              "  [theme=dark] .colab-df-quickchart {\n",
              "      --bg-color: #3B4455;\n",
              "      --fill-color: #D2E3FC;\n",
              "      --hover-bg-color: #434B5C;\n",
              "      --hover-fill-color: #FFFFFF;\n",
              "      --disabled-bg-color: #3B4455;\n",
              "      --disabled-fill-color: #666;\n",
              "  }\n",
              "\n",
              "  .colab-df-quickchart {\n",
              "    background-color: var(--bg-color);\n",
              "    border: none;\n",
              "    border-radius: 50%;\n",
              "    cursor: pointer;\n",
              "    display: none;\n",
              "    fill: var(--fill-color);\n",
              "    height: 32px;\n",
              "    padding: 0;\n",
              "    width: 32px;\n",
              "  }\n",
              "\n",
              "  .colab-df-quickchart:hover {\n",
              "    background-color: var(--hover-bg-color);\n",
              "    box-shadow: 0 1px 2px rgba(60, 64, 67, 0.3), 0 1px 3px 1px rgba(60, 64, 67, 0.15);\n",
              "    fill: var(--button-hover-fill-color);\n",
              "  }\n",
              "\n",
              "  .colab-df-quickchart-complete:disabled,\n",
              "  .colab-df-quickchart-complete:disabled:hover {\n",
              "    background-color: var(--disabled-bg-color);\n",
              "    fill: var(--disabled-fill-color);\n",
              "    box-shadow: none;\n",
              "  }\n",
              "\n",
              "  .colab-df-spinner {\n",
              "    border: 2px solid var(--fill-color);\n",
              "    border-color: transparent;\n",
              "    border-bottom-color: var(--fill-color);\n",
              "    animation:\n",
              "      spin 1s steps(1) infinite;\n",
              "  }\n",
              "\n",
              "  @keyframes spin {\n",
              "    0% {\n",
              "      border-color: transparent;\n",
              "      border-bottom-color: var(--fill-color);\n",
              "      border-left-color: var(--fill-color);\n",
              "    }\n",
              "    20% {\n",
              "      border-color: transparent;\n",
              "      border-left-color: var(--fill-color);\n",
              "      border-top-color: var(--fill-color);\n",
              "    }\n",
              "    30% {\n",
              "      border-color: transparent;\n",
              "      border-left-color: var(--fill-color);\n",
              "      border-top-color: var(--fill-color);\n",
              "      border-right-color: var(--fill-color);\n",
              "    }\n",
              "    40% {\n",
              "      border-color: transparent;\n",
              "      border-right-color: var(--fill-color);\n",
              "      border-top-color: var(--fill-color);\n",
              "    }\n",
              "    60% {\n",
              "      border-color: transparent;\n",
              "      border-right-color: var(--fill-color);\n",
              "    }\n",
              "    80% {\n",
              "      border-color: transparent;\n",
              "      border-right-color: var(--fill-color);\n",
              "      border-bottom-color: var(--fill-color);\n",
              "    }\n",
              "    90% {\n",
              "      border-color: transparent;\n",
              "      border-bottom-color: var(--fill-color);\n",
              "    }\n",
              "  }\n",
              "</style>\n",
              "\n",
              "  <script>\n",
              "    async function quickchart(key) {\n",
              "      const quickchartButtonEl =\n",
              "        document.querySelector('#' + key + ' button');\n",
              "      quickchartButtonEl.disabled = true;  // To prevent multiple clicks.\n",
              "      quickchartButtonEl.classList.add('colab-df-spinner');\n",
              "      try {\n",
              "        const charts = await google.colab.kernel.invokeFunction(\n",
              "            'suggestCharts', [key], {});\n",
              "      } catch (error) {\n",
              "        console.error('Error during call to suggestCharts:', error);\n",
              "      }\n",
              "      quickchartButtonEl.classList.remove('colab-df-spinner');\n",
              "      quickchartButtonEl.classList.add('colab-df-quickchart-complete');\n",
              "    }\n",
              "    (() => {\n",
              "      let quickchartButtonEl =\n",
              "        document.querySelector('#df-bb8daf73-36bc-4481-8a6d-df2d22630daf button');\n",
              "      quickchartButtonEl.style.display =\n",
              "        google.colab.kernel.accessAllowed ? 'block' : 'none';\n",
              "    })();\n",
              "  </script>\n",
              "</div>\n",
              "    </div>\n",
              "  </div>\n"
            ]
          },
          "metadata": {},
          "execution_count": 3
        }
      ]
    },
    {
      "cell_type": "code",
      "source": [
        "train=data_df.sample(frac=0.7,random_state=7) # Create training of 70% of the data\n",
        "test=data_df.drop(train.index) # Create testing by removing the 70% of the train data which will result in 30%\n",
        "\n",
        "val=test.sample(frac=0.5,random_state=7) # Create validation of 50% of the testing data\n",
        "test=test.drop(val.index) # Create testing by removing the 50% of the validation data which will result in 50%"
      ],
      "metadata": {
        "id": "q5O1RkPeZ2D-"
      },
      "execution_count": 4,
      "outputs": []
    },
    {
      "cell_type": "code",
      "source": [
        "print(train.shape)\n",
        "print(val.shape)\n",
        "print(test.shape)"
      ],
      "metadata": {
        "colab": {
          "base_uri": "https://localhost:8080/"
        },
        "id": "XY0DWqTuZ3g8",
        "outputId": "19a9936e-e3ff-46cf-e4ff-3afc3dab40c2"
      },
      "execution_count": 5,
      "outputs": [
        {
          "output_type": "stream",
          "name": "stdout",
          "text": [
            "(4681, 2)\n",
            "(1003, 2)\n",
            "(1003, 2)\n"
          ]
        }
      ]
    },
    {
      "cell_type": "code",
      "source": [
        "label_encoder = LabelEncoder() # Encode the string classes to numeric"
      ],
      "metadata": {
        "id": "NjOl8AVHPlAr"
      },
      "execution_count": 6,
      "outputs": []
    },
    {
      "cell_type": "code",
      "source": [
        "data_df[\"Class\"].unique()"
      ],
      "metadata": {
        "colab": {
          "base_uri": "https://localhost:8080/"
        },
        "id": "YgHbz50uVY7p",
        "outputId": "c3642c7f-8310-4fc1-e481-cf9d5ee85a29"
      },
      "execution_count": 7,
      "outputs": [
        {
          "output_type": "execute_result",
          "data": {
            "text/plain": [
              "array(['Mohammed_Aluhaidan', 'Yasser_Aldossary', 'Maher_Almuaiqly',\n",
              "       'Nasser_Alqutami', 'AbdulBari_Althubaity', 'Bander_Balilah',\n",
              "       'Ali_Alhothaify', 'Saud_Alshuraim', 'Mohammed_Ayoub',\n",
              "       'AbdulRahman_Alsudais', 'Saad_Alghamdi', 'Abdullah_Albuaijan'],\n",
              "      dtype=object)"
            ]
          },
          "metadata": {},
          "execution_count": 7
        }
      ]
    },
    {
      "cell_type": "code",
      "source": [
        "class CustomAudioDataset(Dataset):\n",
        "  def __init__(self, dataframe):\n",
        "    self.dataframe = dataframe\n",
        "    # self.audios = [torch.Tensor(self.spec_to_image(self.get_melspectrogram_db(i))).unsqueeze(0).to(device) for i in list(data_df[\"FilePath\"])]\n",
        "    self.labels = torch.tensor(label_encoder.fit_transform(dataframe['Class'])).to(device)\n",
        "    self.audios = [self.load_and_transform_audio(path) for path in dataframe['FilePath']]\n",
        "\n",
        "  def __len__(self):\n",
        "    return self.dataframe.shape[0]\n",
        "\n",
        "  def __getitem__(self, idx):\n",
        "    img_path = self.dataframe.iloc[idx, 0]\n",
        "    label = torch.Tensor(self.labels[idx]).to(device)\n",
        "    # audio = self.audios[idx]\n",
        "    audio = self.audios[idx].to(device)\n",
        "    return audio, label\n",
        "\n",
        "  def load_and_transform_audio(self, file_path):\n",
        "    spec_db = self.get_melspectrogram_db(file_path)\n",
        "    audio_tensor = torch.tensor(self.spec_to_image(spec_db), dtype = torch.float32).unsqueeze(0)\n",
        "    return audio_tensor\n",
        "\n",
        "  def get_melspectrogram_db(self, file_path, sr=None, n_fft=2048, hop_length=512, n_mels=128, fmin=20, fmax=8300, top_db=80):\n",
        "    wav, sr = librosa.load(file_path, sr=sr)\n",
        "    if wav.shape[0] < 5*sr:\n",
        "      wav = np.pad(wav, int(np.ceil((5*sr - wav.shape[0])/2)), mode='reflect')\n",
        "    else:\n",
        "      wav = wav[:5*sr]\n",
        "\n",
        "    # Note the use of y=wav instead of just wav\n",
        "    spec = librosa.feature.melspectrogram(y=wav, sr=sr, n_fft=n_fft,\n",
        "                                          hop_length=hop_length, n_mels=n_mels,\n",
        "                                          fmin=fmin, fmax=fmax)\n",
        "    spec_db = librosa.power_to_db(spec, top_db=top_db)\n",
        "    return spec_db\n",
        "\n",
        "  def spec_to_image(self, spec, eps=1e-6):\n",
        "    mean = spec.mean()\n",
        "    std = spec.std()\n",
        "    spec_norm = (spec - mean) / (std + eps)\n",
        "    spec_min, spec_max = spec_norm.min(), spec_norm.max()\n",
        "    spec_scaled = 255 * (spec_norm - spec_min) / (spec_max - spec_min)\n",
        "    spec_scaled = spec_scaled.astype(np.uint8)\n",
        "    return spec_scaled\n"
      ],
      "metadata": {
        "id": "M8XqYh0uVdDe"
      },
      "execution_count": 8,
      "outputs": []
    },
    {
      "cell_type": "code",
      "source": [
        "train_dataset = CustomAudioDataset(dataframe=train)\n",
        "val_dataset = CustomAudioDataset(dataframe=val)\n",
        "test_dataset = CustomAudioDataset(dataframe=test)"
      ],
      "metadata": {
        "id": "oGIgkQamZlj_"
      },
      "execution_count": 9,
      "outputs": []
    },
    {
      "cell_type": "code",
      "source": [
        "LR = 1e-4\n",
        "BATCH_SIZE = 16\n",
        "EPOCHS = 25"
      ],
      "metadata": {
        "id": "hVyPxzTdaNLH"
      },
      "execution_count": 10,
      "outputs": []
    },
    {
      "cell_type": "code",
      "source": [
        "train_loader = DataLoader(train_dataset, batch_size=BATCH_SIZE, shuffle=True)\n",
        "val_loader = DataLoader(val_dataset, batch_size=BATCH_SIZE, shuffle=True)\n",
        "test_loader = DataLoader(test_dataset, batch_size=BATCH_SIZE, shuffle=True)"
      ],
      "metadata": {
        "id": "dpx6JAIkaHbY"
      },
      "execution_count": 11,
      "outputs": []
    },
    {
      "cell_type": "code",
      "source": [
        "class Net(nn.Module):\n",
        "  def __init__(self):\n",
        "    super().__init__()\n",
        "\n",
        "    self.conv1 = nn.Conv2d(1, 32, kernel_size = 3, padding = 1) # First Convolution layer\n",
        "    self.conv2 = nn.Conv2d(32, 64, kernel_size = 3, stride = 1, padding = 1) # Second Convolution layer\n",
        "    self.conv3 = nn.Conv2d(64, 128, kernel_size = 3, stride = 1, padding = 1) # Third Convolution layer\n",
        "    self.pooling = nn.MaxPool2d(2,2) # The pooling layer, we will be using the same layer after each conv2d.\n",
        "    self.relu = nn.ReLU() # ReLU Activation function\n",
        "\n",
        "    self.flatten = nn.Flatten() # Flatten and vectorize the output feature maps that somes from the final convolution layer.\n",
        "    self.linear1 = nn.Linear(118784, 4096) # Traditional Dense (Linear)\n",
        "    self.linear2 = nn.Linear(4096, 2056) # Traditional Dense (Linear)\n",
        "    self.linear3 = nn.Linear(2056, 1024) # Traditional Dense (Linear)\n",
        "    self.linear4 = nn.Linear(1024, 512) # Traditional Dense (Linear)\n",
        "    self.output = nn.Linear(512, len(data_df['Class'].unique())) # Output Linear Layer\n",
        "\n",
        "    self.dropout = nn.Dropout(0.5)\n",
        "\n",
        "  def forward(self, x):\n",
        "    x = self.conv1(x) # -> Outputs: (32, 128, 128)\n",
        "    x = self.pooling(x)# -> Outputs: (32, 64, 64)\n",
        "    x = self.relu(x)\n",
        "    x = self.dropout(x)\n",
        "    x = self.conv2(x) # -> Outputs: (64, 64, 64)\n",
        "    x = self.pooling(x) # -> Outputs: (64, 32, 32)\n",
        "    x = self.relu(x)\n",
        "    x = self.dropout(x)\n",
        "    x = self.conv3(x) # -> Outputs: (128, 32, 32)\n",
        "    x = self.pooling(x) # -> Outputs: (128, 16, 16)\n",
        "    x = self.relu(x)\n",
        "    x = self.dropout(x)\n",
        "    x = x.view(x.size(0), -1)\n",
        "\n",
        "    x = self.flatten(x)\n",
        "\n",
        "    x = self.linear1(x)\n",
        "    x = self.dropout(x)\n",
        "\n",
        "    x = self.linear2(x)\n",
        "    x = self.dropout(x)\n",
        "\n",
        "    x = self.linear3(x)\n",
        "    x = self.dropout(x)\n",
        "\n",
        "    x = self.linear4(x)\n",
        "    x = self.dropout(x)\n",
        "\n",
        "    x = self.output(x)\n",
        "\n",
        "    return x\n",
        "\n",
        "model = Net().to(device) # Create an instance of the model and move it to the GPU Device\n",
        "\n",
        "\n",
        "print(model)"
      ],
      "metadata": {
        "id": "Mjs684BmaOH9",
        "colab": {
          "base_uri": "https://localhost:8080/"
        },
        "outputId": "58445a61-e7c9-4538-87e0-b61de482ca28"
      },
      "execution_count": 12,
      "outputs": [
        {
          "output_type": "stream",
          "name": "stdout",
          "text": [
            "Net(\n",
            "  (conv1): Conv2d(1, 32, kernel_size=(3, 3), stride=(1, 1), padding=(1, 1))\n",
            "  (conv2): Conv2d(32, 64, kernel_size=(3, 3), stride=(1, 1), padding=(1, 1))\n",
            "  (conv3): Conv2d(64, 128, kernel_size=(3, 3), stride=(1, 1), padding=(1, 1))\n",
            "  (pooling): MaxPool2d(kernel_size=2, stride=2, padding=0, dilation=1, ceil_mode=False)\n",
            "  (relu): ReLU()\n",
            "  (flatten): Flatten(start_dim=1, end_dim=-1)\n",
            "  (linear1): Linear(in_features=118784, out_features=4096, bias=True)\n",
            "  (linear2): Linear(in_features=4096, out_features=2056, bias=True)\n",
            "  (linear3): Linear(in_features=2056, out_features=1024, bias=True)\n",
            "  (linear4): Linear(in_features=1024, out_features=512, bias=True)\n",
            "  (output): Linear(in_features=512, out_features=12, bias=True)\n",
            "  (dropout): Dropout(p=0.5, inplace=False)\n",
            ")\n"
          ]
        }
      ]
    },
    {
      "cell_type": "code",
      "source": [
        "# Define loss function and optimizer\n",
        "criterion = nn.CrossEntropyLoss() # Cross Entropy Loss\n",
        "optimizer = Adam(model.parameters(), lr=LR) # Adam optimizer"
      ],
      "metadata": {
        "id": "Rl-DZMsycuTQ"
      },
      "execution_count": 13,
      "outputs": []
    },
    {
      "cell_type": "code",
      "source": [
        "total_loss_train_plot = []\n",
        "total_loss_validation_plot = []\n",
        "total_acc_train_plot = []\n",
        "total_acc_validation_plot = []\n",
        "\n",
        "\n",
        "for epoch in range(EPOCHS):\n",
        "  total_acc_train = 0\n",
        "  total_loss_train = 0\n",
        "  total_loss_val = 0\n",
        "  total_acc_val = 0\n",
        "\n",
        "  for (inputs, labels) in train_loader:\n",
        "    optimizer.zero_grad()\n",
        "    outputs = model(inputs)\n",
        "    train_loss = criterion(outputs, labels)\n",
        "    total_loss_train += train_loss.item()\n",
        "    train_loss.backward()\n",
        "\n",
        "    train_acc = (torch.argmax(outputs, axis = 1) == labels).sum().item()\n",
        "    total_acc_train += train_acc\n",
        "    optimizer.step()\n",
        "\n",
        "  with torch.no_grad():\n",
        "    for i, (inputs, labels) in enumerate(val_loader):\n",
        "      outputs = model(inputs)\n",
        "      val_loss = criterion(outputs, labels)\n",
        "      total_loss_val += val_loss.item()\n",
        "\n",
        "      val_acc = (torch.argmax(outputs, axis = 1) == labels).sum().item()\n",
        "      total_acc_val += val_acc\n",
        "\n",
        "  total_loss_train_plot.append(round(total_loss_train/1000, 4))\n",
        "  total_loss_validation_plot.append(round(total_loss_val/1000, 4))\n",
        "  total_acc_train_plot.append(round(total_acc_train/(train_dataset.__len__())*100, 4))\n",
        "  total_acc_validation_plot.append(round(total_acc_val/(val_dataset.__len__())*100, 4))\n",
        "  print(f'Epoch {epoch+1}/{EPOCHS}, Train Loss: {round(total_loss_train/100, 4)} Train Accuracy {round((total_acc_train)/train_dataset.__len__() * 100, 4)} Validation Loss: {round(total_loss_val/100, 4)} Validation Accuracy: {round((total_acc_val)/val_dataset.__len__() * 100, 4)}')\n"
      ],
      "metadata": {
        "colab": {
          "base_uri": "https://localhost:8080/"
        },
        "id": "vd3UUvybc8Tl",
        "outputId": "46ebd4ac-ff45-4a03-9cee-38e4d634df95"
      },
      "execution_count": 14,
      "outputs": [
        {
          "output_type": "stream",
          "name": "stdout",
          "text": [
            "Epoch 1/25, Train Loss: 117.8277 Train Accuracy 9.357 Validation Loss: 1.6165 Validation Accuracy: 9.8704\n",
            "Epoch 2/25, Train Loss: 7.0366 Train Accuracy 15.4241 Validation Loss: 1.4005 Validation Accuracy: 22.2333\n",
            "Epoch 3/25, Train Loss: 6.3897 Train Accuracy 24.5674 Validation Loss: 1.3541 Validation Accuracy: 25.9222\n",
            "Epoch 4/25, Train Loss: 6.0531 Train Accuracy 29.9936 Validation Loss: 1.2677 Validation Accuracy: 29.6112\n",
            "Epoch 5/25, Train Loss: 5.7877 Train Accuracy 32.6426 Validation Loss: 1.221 Validation Accuracy: 35.6929\n",
            "Epoch 6/25, Train Loss: 5.605 Train Accuracy 34.8857 Validation Loss: 1.1842 Validation Accuracy: 35.5932\n",
            "Epoch 7/25, Train Loss: 5.2041 Train Accuracy 39.3719 Validation Loss: 1.1319 Validation Accuracy: 38.1854\n",
            "Epoch 8/25, Train Loss: 4.8198 Train Accuracy 44.7768 Validation Loss: 0.9904 Validation Accuracy: 47.7567\n",
            "Epoch 9/25, Train Loss: 4.5816 Train Accuracy 47.7248 Validation Loss: 0.9598 Validation Accuracy: 49.0528\n",
            "Epoch 10/25, Train Loss: 4.3014 Train Accuracy 50.8652 Validation Loss: 0.8924 Validation Accuracy: 53.5394\n",
            "Epoch 11/25, Train Loss: 4.1161 Train Accuracy 52.7451 Validation Loss: 0.933 Validation Accuracy: 48.3549\n",
            "Epoch 12/25, Train Loss: 3.743 Train Accuracy 57.21 Validation Loss: 0.8207 Validation Accuracy: 56.8295\n",
            "Epoch 13/25, Train Loss: 3.4725 Train Accuracy 60.0726 Validation Loss: 0.7184 Validation Accuracy: 59.2223\n",
            "Epoch 14/25, Train Loss: 3.4093 Train Accuracy 60.9058 Validation Loss: 0.7022 Validation Accuracy: 61.6152\n",
            "Epoch 15/25, Train Loss: 3.1238 Train Accuracy 64.4734 Validation Loss: 0.659 Validation Accuracy: 63.9083\n",
            "Epoch 16/25, Train Loss: 2.9349 Train Accuracy 66.0329 Validation Loss: 0.6412 Validation Accuracy: 68.993\n",
            "Epoch 17/25, Train Loss: 2.7922 Train Accuracy 68.3401 Validation Loss: 0.607 Validation Accuracy: 69.1924\n",
            "Epoch 18/25, Train Loss: 2.6135 Train Accuracy 70.4123 Validation Loss: 0.6575 Validation Accuracy: 65.1047\n",
            "Epoch 19/25, Train Loss: 2.3757 Train Accuracy 73.809 Validation Loss: 0.5405 Validation Accuracy: 75.0748\n",
            "Epoch 20/25, Train Loss: 2.0551 Train Accuracy 76.6076 Validation Loss: 0.548 Validation Accuracy: 74.1775\n",
            "Epoch 21/25, Train Loss: 2.0422 Train Accuracy 77.3339 Validation Loss: 0.5311 Validation Accuracy: 75.0748\n",
            "Epoch 22/25, Train Loss: 1.8812 Train Accuracy 78.573 Validation Loss: 0.4841 Validation Accuracy: 75.1745\n",
            "Epoch 23/25, Train Loss: 1.8254 Train Accuracy 80.5383 Validation Loss: 0.4888 Validation Accuracy: 77.4676\n",
            "Epoch 24/25, Train Loss: 1.7222 Train Accuracy 80.8161 Validation Loss: 0.5213 Validation Accuracy: 78.3649\n",
            "Epoch 25/25, Train Loss: 1.5628 Train Accuracy 83.9137 Validation Loss: 0.4304 Validation Accuracy: 81.655\n"
          ]
        }
      ]
    },
    {
      "cell_type": "code",
      "source": [
        "with torch.no_grad():\n",
        "  total_loss_test = 0\n",
        "  total_acc_test = 0\n",
        "  for indx, (input, labels) in enumerate(test_loader):\n",
        "\n",
        "    prediction = model(input)\n",
        "\n",
        "    acc = (torch.argmax(prediction, axis = 1) == labels).sum().item()\n",
        "    total_acc_test += acc\n",
        "\n",
        "print(f\"Accuracy Score is: {round((total_acc_test/test_dataset.__len__())*100, 2)}%\")"
      ],
      "metadata": {
        "colab": {
          "base_uri": "https://localhost:8080/"
        },
        "id": "4lOb5Xa9eFc6",
        "outputId": "cb6a4e1b-595c-4fe8-8ccd-402110629f31"
      },
      "execution_count": 15,
      "outputs": [
        {
          "output_type": "stream",
          "name": "stdout",
          "text": [
            "Accuracy Score is: 80.96%\n"
          ]
        }
      ]
    },
    {
      "cell_type": "code",
      "source": [
        "fig, axs = plt.subplots(nrows=1, ncols=2, figsize=(15, 5))\n",
        "\n",
        "axs[0].plot(total_loss_train_plot, label='Training Loss')\n",
        "axs[0].plot(total_loss_validation_plot, label='Validation Loss')\n",
        "axs[0].set_title('Training and Validation Loss over Epochs')\n",
        "axs[0].set_xlabel('Epochs')\n",
        "axs[0].set_ylabel('Loss')\n",
        "axs[1].set_ylim([0, 2])\n",
        "axs[0].legend()\n",
        "\n",
        "axs[1].plot(total_acc_train_plot, label='Training Accuracy')\n",
        "axs[1].plot(total_acc_validation_plot, label='Validation Accuracy')\n",
        "axs[1].set_title('Training and Validation Accuracy over Epochs')\n",
        "axs[1].set_xlabel('Epochs')\n",
        "axs[1].set_ylabel('Accuracy')\n",
        "axs[1].set_ylim([0, 100])\n",
        "axs[1].legend()\n",
        "\n",
        "plt.tight_layout()\n",
        "\n",
        "plt.show()"
      ],
      "metadata": {
        "colab": {
          "base_uri": "https://localhost:8080/",
          "height": 507
        },
        "id": "z9A8soPovvOj",
        "outputId": "22a3e88a-e5a6-45e2-d111-da9fbb0fb181"
      },
      "execution_count": 16,
      "outputs": [
        {
          "output_type": "display_data",
          "data": {
            "text/plain": [
              "<Figure size 1500x500 with 2 Axes>"
            ],
            "image/png": "[encoded data removed]"
          },
          "metadata": {}
        }
      ]
    },
    {
      "cell_type": "code",
      "source": [
        ""
      ],
      "metadata": {
        "id": "Wkf6MzsD3yA_"
      },
      "execution_count": 16,
      "outputs": []
    }
  ]
}